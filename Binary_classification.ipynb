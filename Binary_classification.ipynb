{
  "nbformat": 4,
  "nbformat_minor": 0,
  "metadata": {
    "colab": {
      "name": "Binary classification.ipynb",
      "version": "0.3.2",
      "provenance": [],
      "collapsed_sections": [],
      "toc_visible": true
    },
    "kernelspec": {
      "name": "python3",
      "display_name": "Python 3"
    }
  },
  "cells": [
    {
      "metadata": {
        "id": "6pbwW0d-hnXy",
        "colab_type": "text"
      },
      "cell_type": "markdown",
      "source": [
        "### Binary classification using Keras.\n",
        "\n",
        "Use the IMDB dataset of 50000 reviews (25k positive, 25k negative) to build Neural network.\n",
        "Data has been preprocessed - the words have been turned into sequences of integers, where each integer stands for a specific word in a dictionary."
      ]
    },
    {
      "metadata": {
        "id": "GC6QD4iahJVo",
        "colab_type": "code",
        "outputId": "409065c1-ed96-4b97-bd5d-9c7d0caa4edf",
        "colab": {
          "base_uri": "https://localhost:8080/",
          "height": 34
        }
      },
      "cell_type": "code",
      "source": [
        "import numpy as np\n",
        "from keras.datasets import imdb\n",
        "from keras import models\n",
        "from keras import layers\n",
        "import matplotlib.pyplot as plt"
      ],
      "execution_count": 0,
      "outputs": [
        {
          "output_type": "stream",
          "text": [
            "Using TensorFlow backend.\n"
          ],
          "name": "stderr"
        }
      ]
    },
    {
      "metadata": {
        "id": "hruhdVSRibHg",
        "colab_type": "code",
        "outputId": "d0465b59-edf5-4aba-c0e8-91f8682d58c5",
        "colab": {
          "base_uri": "https://localhost:8080/",
          "height": 51
        }
      },
      "cell_type": "code",
      "source": [
        "(train_data, train_labels), (test_data, test_labels) = imdb.load_data(num_words=10000) #keep only 10k most frequently occuring words"
      ],
      "execution_count": 0,
      "outputs": [
        {
          "output_type": "stream",
          "text": [
            "Downloading data from https://s3.amazonaws.com/text-datasets/imdb.npz\n",
            "17465344/17464789 [==============================] - 1s 0us/step\n"
          ],
          "name": "stdout"
        }
      ]
    },
    {
      "metadata": {
        "id": "9rC9DuPcjRDw",
        "colab_type": "code",
        "outputId": "194cdf78-4d76-48f6-c7e5-88dbcc372d23",
        "colab": {
          "base_uri": "https://localhost:8080/",
          "height": 71
        }
      },
      "cell_type": "code",
      "source": [
        "print(train_data[0])\n",
        "print(train_labels[0])"
      ],
      "execution_count": 0,
      "outputs": [
        {
          "output_type": "stream",
          "text": [
            "[1, 14, 22, 16, 43, 530, 973, 1622, 1385, 65, 458, 4468, 66, 3941, 4, 173, 36, 256, 5, 25, 100, 43, 838, 112, 50, 670, 2, 9, 35, 480, 284, 5, 150, 4, 172, 112, 167, 2, 336, 385, 39, 4, 172, 4536, 1111, 17, 546, 38, 13, 447, 4, 192, 50, 16, 6, 147, 2025, 19, 14, 22, 4, 1920, 4613, 469, 4, 22, 71, 87, 12, 16, 43, 530, 38, 76, 15, 13, 1247, 4, 22, 17, 515, 17, 12, 16, 626, 18, 2, 5, 62, 386, 12, 8, 316, 8, 106, 5, 4, 2223, 5244, 16, 480, 66, 3785, 33, 4, 130, 12, 16, 38, 619, 5, 25, 124, 51, 36, 135, 48, 25, 1415, 33, 6, 22, 12, 215, 28, 77, 52, 5, 14, 407, 16, 82, 2, 8, 4, 107, 117, 5952, 15, 256, 4, 2, 7, 3766, 5, 723, 36, 71, 43, 530, 476, 26, 400, 317, 46, 7, 4, 2, 1029, 13, 104, 88, 4, 381, 15, 297, 98, 32, 2071, 56, 26, 141, 6, 194, 7486, 18, 4, 226, 22, 21, 134, 476, 26, 480, 5, 144, 30, 5535, 18, 51, 36, 28, 224, 92, 25, 104, 4, 226, 65, 16, 38, 1334, 88, 12, 16, 283, 5, 16, 4472, 113, 103, 32, 15, 16, 5345, 19, 178, 32]\n",
            "1\n"
          ],
          "name": "stdout"
        }
      ]
    },
    {
      "metadata": {
        "id": "t7KjpTPkjgVX",
        "colab_type": "code",
        "colab": {}
      },
      "cell_type": "code",
      "source": [
        ""
      ],
      "execution_count": 0,
      "outputs": []
    },
    {
      "metadata": {
        "id": "rOY_ohMpjzj_",
        "colab_type": "text"
      },
      "cell_type": "markdown",
      "source": [
        "To decode reviews back to English use the following. Note that the indices are offset by 3 because 0, 1, and 2 are reserved indices for “padding,” “start of sequence,” and “unknown.”"
      ]
    },
    {
      "metadata": {
        "id": "oxcl4zD0j4HG",
        "colab_type": "code",
        "outputId": "42464604-6cc4-46f0-9e3e-f9e32be5ced8",
        "colab": {
          "base_uri": "https://localhost:8080/",
          "height": 88
        }
      },
      "cell_type": "code",
      "source": [
        "word_index = imdb.get_word_index()\n",
        "reverse_word_index = dict([(value,key) for (key,value) in word_index.items()])\n",
        "\n",
        "decoded_review = ' '.join([reverse_word_index.get(i-3, '?') for i in train_data[0]])\n",
        "print(decoded_review)"
      ],
      "execution_count": 0,
      "outputs": [
        {
          "output_type": "stream",
          "text": [
            "Downloading data from https://s3.amazonaws.com/text-datasets/imdb_word_index.json\n",
            "1646592/1641221 [==============================] - 2s 1us/step\n",
            "? this film was just brilliant casting location scenery story direction everyone's really suited the part they played and you could just imagine being there robert ? is an amazing actor and now the same being director ? father came from the same scottish island as myself so i loved the fact there was a real connection with this film the witty remarks throughout the film were great it was just brilliant so much that i bought the film as soon as it was released for ? and would recommend it to everyone to watch and the fly fishing was amazing really cried at the end it was so sad and you know what they say if you cry at a film it must have been good and this definitely was also ? to the two little boy's that played the ? of norman and paul they were just brilliant children are often left out of the ? list i think because the stars that play them all grown up are such a big profile for the whole film but these children are amazing and should be praised for what they have done don't you think the whole story was so lovely because it was true and was someone's life after all that was shared with us all\n"
          ],
          "name": "stdout"
        }
      ]
    },
    {
      "metadata": {
        "id": "rBFuKlfAv_I3",
        "colab_type": "code",
        "colab": {}
      },
      "cell_type": "code",
      "source": [
        ""
      ],
      "execution_count": 0,
      "outputs": []
    },
    {
      "metadata": {
        "id": "QMrqWvNf66Bj",
        "colab_type": "text"
      },
      "cell_type": "markdown",
      "source": [
        "Use one hot encoding to prepare the data so that all samples have same length. Vectorize labels by converting them to numpy array"
      ]
    },
    {
      "metadata": {
        "id": "AniRjwJ_7C2J",
        "colab_type": "code",
        "colab": {}
      },
      "cell_type": "code",
      "source": [
        "def vectorize_sequences(sequences, dimension=10000):\n",
        "  results = np.zeros((len(sequences),dimension))\n",
        "  \n",
        "  for i,sequence in enumerate(sequences):\n",
        "    results[i,sequence] = 1\n",
        "    \n",
        "  return results\n",
        "\n",
        "x_train = vectorize_sequences(train_data)\n",
        "x_test = vectorize_sequences(test_data)\n",
        "\n",
        "y_train = np.asarray(train_labels).astype('float32')\n",
        "y_test = np.asarray(test_labels).astype('float32')"
      ],
      "execution_count": 0,
      "outputs": []
    },
    {
      "metadata": {
        "id": "coJ7I3P6BJLm",
        "colab_type": "text"
      },
      "cell_type": "markdown",
      "source": [
        "Create validation set"
      ]
    },
    {
      "metadata": {
        "id": "S4Jl2Dv7BNfR",
        "colab_type": "code",
        "colab": {}
      },
      "cell_type": "code",
      "source": [
        "x_val = x_train[:10000]\n",
        "partial_x_train = x_train[10000:]\n",
        "\n",
        "y_val = y_train[:10000]\n",
        "partial_y_train = y_train[10000:]"
      ],
      "execution_count": 0,
      "outputs": []
    },
    {
      "metadata": {
        "id": "JaqUzlyu_APn",
        "colab_type": "text"
      },
      "cell_type": "markdown",
      "source": [
        "Define the network"
      ]
    },
    {
      "metadata": {
        "id": "Y2kM2Zc5-94n",
        "colab_type": "code",
        "outputId": "8557e6e2-cd84-4610-8d93-21e706795457",
        "colab": {
          "base_uri": "https://localhost:8080/",
          "height": 88
        }
      },
      "cell_type": "code",
      "source": [
        "model = models.Sequential()\n",
        "model.add(layers.Dense(16,activation='relu',input_shape=(10000,)))\n",
        "model.add(layers.Dense(16,activation='relu'))\n",
        "model.add(layers.Dense(1,activation='sigmoid'))"
      ],
      "execution_count": 0,
      "outputs": [
        {
          "output_type": "stream",
          "text": [
            "WARNING:tensorflow:From /usr/local/lib/python3.6/dist-packages/tensorflow/python/framework/op_def_library.py:263: colocate_with (from tensorflow.python.framework.ops) is deprecated and will be removed in a future version.\n",
            "Instructions for updating:\n",
            "Colocations handled automatically by placer.\n"
          ],
          "name": "stdout"
        }
      ]
    },
    {
      "metadata": {
        "id": "bWLlhxzm_sSv",
        "colab_type": "text"
      },
      "cell_type": "markdown",
      "source": [
        "Choose the loss function and an optimizer and fit the model to partial training data"
      ]
    },
    {
      "metadata": {
        "id": "pUXY2Zs9_v8U",
        "colab_type": "code",
        "outputId": "5bbfc1b8-6fa3-41ff-c155-24986f863f48",
        "colab": {
          "base_uri": "https://localhost:8080/",
          "height": 785
        }
      },
      "cell_type": "code",
      "source": [
        "model.compile(optimizer='rmsprop',loss='binary_crossentropy',metrics=['accuracy'])\n",
        "\n",
        "history = model.fit(partial_x_train,\n",
        "                   partial_y_train,\n",
        "                   epochs=20,\n",
        "                   batch_size=512,\n",
        "                   validation_data=(x_val,y_val))"
      ],
      "execution_count": 0,
      "outputs": [
        {
          "output_type": "stream",
          "text": [
            "WARNING:tensorflow:From /usr/local/lib/python3.6/dist-packages/tensorflow/python/ops/math_ops.py:3066: to_int32 (from tensorflow.python.ops.math_ops) is deprecated and will be removed in a future version.\n",
            "Instructions for updating:\n",
            "Use tf.cast instead.\n",
            "Train on 15000 samples, validate on 10000 samples\n",
            "Epoch 1/20\n",
            "15000/15000 [==============================] - 3s 172us/step - loss: 0.5087 - acc: 0.7813 - val_loss: 0.3799 - val_acc: 0.8691\n",
            "Epoch 2/20\n",
            "15000/15000 [==============================] - 2s 124us/step - loss: 0.3007 - acc: 0.9051 - val_loss: 0.3007 - val_acc: 0.8896\n",
            "Epoch 3/20\n",
            "15000/15000 [==============================] - 2s 125us/step - loss: 0.2181 - acc: 0.9283 - val_loss: 0.3089 - val_acc: 0.8714\n",
            "Epoch 4/20\n",
            "15000/15000 [==============================] - 2s 125us/step - loss: 0.1751 - acc: 0.9433 - val_loss: 0.2839 - val_acc: 0.8836\n",
            "Epoch 5/20\n",
            "15000/15000 [==============================] - 2s 125us/step - loss: 0.1426 - acc: 0.9541 - val_loss: 0.2847 - val_acc: 0.8866\n",
            "Epoch 6/20\n",
            "15000/15000 [==============================] - 2s 125us/step - loss: 0.1150 - acc: 0.9653 - val_loss: 0.3153 - val_acc: 0.8775\n",
            "Epoch 7/20\n",
            "15000/15000 [==============================] - 2s 124us/step - loss: 0.0980 - acc: 0.9703 - val_loss: 0.3128 - val_acc: 0.8844\n",
            "Epoch 8/20\n",
            "15000/15000 [==============================] - 2s 124us/step - loss: 0.0807 - acc: 0.9765 - val_loss: 0.3853 - val_acc: 0.8652\n",
            "Epoch 9/20\n",
            "15000/15000 [==============================] - 2s 125us/step - loss: 0.0661 - acc: 0.9821 - val_loss: 0.3635 - val_acc: 0.8776\n",
            "Epoch 10/20\n",
            "15000/15000 [==============================] - 2s 124us/step - loss: 0.0557 - acc: 0.9853 - val_loss: 0.3842 - val_acc: 0.8793\n",
            "Epoch 11/20\n",
            "15000/15000 [==============================] - 2s 127us/step - loss: 0.0450 - acc: 0.9889 - val_loss: 0.4163 - val_acc: 0.8765\n",
            "Epoch 12/20\n",
            "15000/15000 [==============================] - 2s 124us/step - loss: 0.0385 - acc: 0.9913 - val_loss: 0.4504 - val_acc: 0.8698\n",
            "Epoch 13/20\n",
            "15000/15000 [==============================] - 2s 125us/step - loss: 0.0299 - acc: 0.9929 - val_loss: 0.4698 - val_acc: 0.8729\n",
            "Epoch 14/20\n",
            "15000/15000 [==============================] - 2s 125us/step - loss: 0.0245 - acc: 0.9949 - val_loss: 0.5028 - val_acc: 0.8715\n",
            "Epoch 15/20\n",
            "15000/15000 [==============================] - 2s 124us/step - loss: 0.0174 - acc: 0.9981 - val_loss: 0.5493 - val_acc: 0.8677\n",
            "Epoch 16/20\n",
            "15000/15000 [==============================] - 2s 125us/step - loss: 0.0161 - acc: 0.9971 - val_loss: 0.5765 - val_acc: 0.8697\n",
            "Epoch 17/20\n",
            "15000/15000 [==============================] - 2s 125us/step - loss: 0.0095 - acc: 0.9994 - val_loss: 0.6689 - val_acc: 0.8576\n",
            "Epoch 18/20\n",
            "15000/15000 [==============================] - 2s 125us/step - loss: 0.0125 - acc: 0.9971 - val_loss: 0.6447 - val_acc: 0.8682\n",
            "Epoch 19/20\n",
            "15000/15000 [==============================] - 2s 125us/step - loss: 0.0053 - acc: 0.9998 - val_loss: 0.7246 - val_acc: 0.8568\n",
            "Epoch 20/20\n",
            "15000/15000 [==============================] - 2s 124us/step - loss: 0.0097 - acc: 0.9978 - val_loss: 0.7027 - val_acc: 0.8662\n"
          ],
          "name": "stdout"
        }
      ]
    },
    {
      "metadata": {
        "id": "SXgUMQxOTxux",
        "colab_type": "code",
        "outputId": "aa12ccb1-51f7-4fda-b3b4-225d5f9ba46e",
        "colab": {
          "base_uri": "https://localhost:8080/",
          "height": 34
        }
      },
      "cell_type": "code",
      "source": [
        "print(history.history.keys())"
      ],
      "execution_count": 0,
      "outputs": [
        {
          "output_type": "stream",
          "text": [
            "dict_keys(['val_loss', 'val_acc', 'loss', 'acc'])\n"
          ],
          "name": "stdout"
        }
      ]
    },
    {
      "metadata": {
        "id": "VJDarRB1TgE1",
        "colab_type": "text"
      },
      "cell_type": "markdown",
      "source": [
        "Plotting the training & validation loss"
      ]
    },
    {
      "metadata": {
        "id": "SCKJ5XlfUP2o",
        "colab_type": "code",
        "outputId": "ef328d12-1e88-4ce6-af86-40f759fd1e4e",
        "colab": {
          "base_uri": "https://localhost:8080/",
          "height": 361
        }
      },
      "cell_type": "code",
      "source": [
        "history_dict = history.history\n",
        "loss_values = history_dict['loss']\n",
        "val_loss_values = history_dict['val_loss']\n",
        "\n",
        "epochs = range(1,len(loss_values)+1)\n",
        "\n",
        "plt.plot(epochs,loss_values,'r^',label='Training loss')\n",
        "plt.plot(epochs,val_loss_values,'bo',label='Validation loss')\n",
        "plt.xlabel('Epochs')\n",
        "plt.ylabel('Loss')\n",
        "plt.legend()\n",
        "plt.show()"
      ],
      "execution_count": 0,
      "outputs": [
        {
          "output_type": "display_data",
          "data": {
            "image/png": "[encoded data removed]",
            "text/plain": [
              "<Figure size 576x396 with 1 Axes>"
            ]
          },
          "metadata": {
            "tags": []
          }
        }
      ]
    },
    {
      "metadata": {
        "id": "NV655wEaU1ri",
        "colab_type": "text"
      },
      "cell_type": "markdown",
      "source": [
        "Plot the training and validation accuracy\n"
      ]
    },
    {
      "metadata": {
        "id": "gh-83_l7V5kx",
        "colab_type": "code",
        "outputId": "1e2c370f-3cc1-45d9-9541-a432707c7b67",
        "colab": {
          "base_uri": "https://localhost:8080/",
          "height": 376
        }
      },
      "cell_type": "code",
      "source": [
        "acc_values = history_dict['acc']\n",
        "val_acc_values = history_dict['val_acc']\n",
        "\n",
        "plt.plot(epochs,acc_values,'r^',label='Training acc')\n",
        "plt.plot(epochs,val_acc_values,'bo',label='Validation acc')\n",
        "plt.title('Training & validation accuracy')\n",
        "\n",
        "plt.xlabel('Epochs')\n",
        "plt.ylabel('Accuracy')\n",
        "plt.legend()\n",
        "\n",
        "plt.show()"
      ],
      "execution_count": 0,
      "outputs": [
        {
          "output_type": "display_data",
          "data": {
            "image/png": "[encoded data removed]",
            "text/plain": [
              "<Figure size 576x396 with 1 Axes>"
            ]
          },
          "metadata": {
            "tags": []
          }
        }
      ]
    },
    {
      "metadata": {
        "id": "MaDW9rvjYP5S",
        "colab_type": "text"
      },
      "cell_type": "markdown",
      "source": [
        "The training loss decreases with every epoch, and the training accuracy increases with every epoch. But that isn’t the case for the validation loss and accuracy: they seem to peak at the fourth epoch. So the model is Overffiting. Lets tackle this by - \n",
        " - Reducing the number of epochs\n",
        " - Reducing size of the network\n",
        " - Using regularization - weight or dropout"
      ]
    },
    {
      "metadata": {
        "id": "xstl4emAYj3L",
        "colab_type": "text"
      },
      "cell_type": "markdown",
      "source": [
        "Instead of 20 epochs which causes overfitting train a new model from scratch for only 4 epochs. "
      ]
    },
    {
      "metadata": {
        "id": "DU9lMYYbYzga",
        "colab_type": "code",
        "outputId": "8fbb704e-dfc5-4b2f-e20c-4b90093850ad",
        "colab": {
          "base_uri": "https://localhost:8080/",
          "height": 204
        }
      },
      "cell_type": "code",
      "source": [
        "model = models.Sequential()\n",
        "model.add(layers.Dense(16,activation='relu',input_shape=(10000,)))\n",
        "model.add(layers.Dense(16,activation='relu'))\n",
        "model.add(layers.Dense(1,activation='sigmoid'))\n",
        "\n",
        "model.compile(optimizer='rmsprop', loss='binary_crossentropy', metrics=['accuracy'])\n",
        "\n",
        "model.fit(x_train,y_train,epochs=4,batch_size=512)\n",
        "results = model.evaluate(x_test,y_test)\n",
        "print (model.metrics_names[0]+\"  - \" + str(results[0]))\n",
        "print (model.metrics_names[1]+\"  - \" + str(results[1]))"
      ],
      "execution_count": 0,
      "outputs": [
        {
          "output_type": "stream",
          "text": [
            "Epoch 1/4\n",
            "25000/25000 [==============================] - 3s 104us/step - loss: 0.4489 - acc: 0.8252\n",
            "Epoch 2/4\n",
            "25000/25000 [==============================] - 2s 94us/step - loss: 0.2604 - acc: 0.9113\n",
            "Epoch 3/4\n",
            "25000/25000 [==============================] - 2s 94us/step - loss: 0.2000 - acc: 0.9286\n",
            "Epoch 4/4\n",
            "25000/25000 [==============================] - 2s 92us/step - loss: 0.1678 - acc: 0.9398\n",
            "25000/25000 [==============================] - 2s 72us/step\n",
            "loss  - 0.2936700465774536\n",
            "acc  - 0.88476\n"
          ],
          "name": "stdout"
        }
      ]
    },
    {
      "metadata": {
        "id": "4uAYUKhic_VD",
        "colab_type": "text"
      },
      "cell_type": "markdown",
      "source": [
        "This fairly naive approach of training for fewer epochs achieves an accuracy of ~88%.\n",
        "\n",
        "---\n",
        "\n",
        "\n",
        "Lets try to replace it with a smaller network and train for 20 epochs instead of 4"
      ]
    },
    {
      "metadata": {
        "id": "GlRISHotsFZP",
        "colab_type": "code",
        "outputId": "c2729c79-37de-408e-8c29-e94e3aa04b47",
        "colab": {
          "base_uri": "https://localhost:8080/",
          "height": 734
        }
      },
      "cell_type": "code",
      "source": [
        "model = models.Sequential()\n",
        "model.add(layers.Dense(4,activation='relu',input_shape=(10000,)))\n",
        "model.add(layers.Dense(4,activation='relu'))\n",
        "model.add(layers.Dense(1,activation='sigmoid'))\n",
        "\n",
        "model.compile(optimizer='rmsprop',loss='binary_crossentropy', metrics=['accuracy'])\n",
        "\n",
        "history_small = model.fit(partial_x_train,partial_y_train,epochs=20,batch_size=512,validation_data=(x_val,y_val))"
      ],
      "execution_count": 0,
      "outputs": [
        {
          "output_type": "stream",
          "text": [
            "Train on 15000 samples, validate on 10000 samples\n",
            "Epoch 1/20\n",
            "15000/15000 [==============================] - 2s 153us/step - loss: 0.5942 - acc: 0.7681 - val_loss: 0.5234 - val_acc: 0.8178\n",
            "Epoch 2/20\n",
            "15000/15000 [==============================] - 2s 114us/step - loss: 0.4544 - acc: 0.8731 - val_loss: 0.4239 - val_acc: 0.8652\n",
            "Epoch 3/20\n",
            "15000/15000 [==============================] - 2s 110us/step - loss: 0.3641 - acc: 0.8959 - val_loss: 0.3635 - val_acc: 0.8764\n",
            "Epoch 4/20\n",
            "15000/15000 [==============================] - 2s 110us/step - loss: 0.3003 - acc: 0.9097 - val_loss: 0.3247 - val_acc: 0.8839\n",
            "Epoch 5/20\n",
            "15000/15000 [==============================] - 2s 110us/step - loss: 0.2545 - acc: 0.9217 - val_loss: 0.2988 - val_acc: 0.8881\n",
            "Epoch 6/20\n",
            "15000/15000 [==============================] - 2s 109us/step - loss: 0.2201 - acc: 0.9329 - val_loss: 0.2882 - val_acc: 0.8874\n",
            "Epoch 7/20\n",
            "15000/15000 [==============================] - 2s 110us/step - loss: 0.1934 - acc: 0.9394 - val_loss: 0.2928 - val_acc: 0.8820\n",
            "Epoch 8/20\n",
            "15000/15000 [==============================] - 2s 109us/step - loss: 0.1714 - acc: 0.9468 - val_loss: 0.2748 - val_acc: 0.8891\n",
            "Epoch 9/20\n",
            "15000/15000 [==============================] - 2s 110us/step - loss: 0.1529 - acc: 0.9527 - val_loss: 0.2729 - val_acc: 0.8904\n",
            "Epoch 10/20\n",
            "15000/15000 [==============================] - 2s 110us/step - loss: 0.1361 - acc: 0.9587 - val_loss: 0.2756 - val_acc: 0.8907\n",
            "Epoch 11/20\n",
            "15000/15000 [==============================] - 2s 109us/step - loss: 0.1220 - acc: 0.9634 - val_loss: 0.2811 - val_acc: 0.8886\n",
            "Epoch 12/20\n",
            "15000/15000 [==============================] - 2s 109us/step - loss: 0.1096 - acc: 0.9675 - val_loss: 0.2877 - val_acc: 0.8873\n",
            "Epoch 13/20\n",
            "15000/15000 [==============================] - 2s 109us/step - loss: 0.0986 - acc: 0.9713 - val_loss: 0.2960 - val_acc: 0.8860\n",
            "Epoch 14/20\n",
            "15000/15000 [==============================] - 2s 109us/step - loss: 0.0886 - acc: 0.9753 - val_loss: 0.3065 - val_acc: 0.8831\n",
            "Epoch 15/20\n",
            "15000/15000 [==============================] - 2s 109us/step - loss: 0.0793 - acc: 0.9785 - val_loss: 0.3185 - val_acc: 0.8819\n",
            "Epoch 16/20\n",
            "15000/15000 [==============================] - 2s 109us/step - loss: 0.0711 - acc: 0.9817 - val_loss: 0.3304 - val_acc: 0.8814\n",
            "Epoch 17/20\n",
            "15000/15000 [==============================] - 2s 109us/step - loss: 0.0631 - acc: 0.9849 - val_loss: 0.3500 - val_acc: 0.8784\n",
            "Epoch 18/20\n",
            "15000/15000 [==============================] - 2s 109us/step - loss: 0.0565 - acc: 0.9864 - val_loss: 0.3620 - val_acc: 0.8818\n",
            "Epoch 19/20\n",
            "15000/15000 [==============================] - 2s 110us/step - loss: 0.0500 - acc: 0.9887 - val_loss: 0.3739 - val_acc: 0.8807\n",
            "Epoch 20/20\n",
            "15000/15000 [==============================] - 2s 110us/step - loss: 0.0442 - acc: 0.9907 - val_loss: 0.3907 - val_acc: 0.8777\n"
          ],
          "name": "stdout"
        }
      ]
    },
    {
      "metadata": {
        "id": "bgwx7iUctpu7",
        "colab_type": "code",
        "outputId": "af2f18d1-2a3b-4411-dc08-92ddc5c73076",
        "colab": {
          "base_uri": "https://localhost:8080/",
          "height": 361
        }
      },
      "cell_type": "code",
      "source": [
        "val_loss_small = history_small.history['val_loss']\n",
        "\n",
        "epochs = range(1,len(val_loss_small)+1)\n",
        "\n",
        "plt.plot(epochs,val_loss_values,'r^',label='Original model')\n",
        "plt.plot(epochs,val_loss_small,'bo',label='Smaller model ')\n",
        "plt.xlabel('Epochs')\n",
        "plt.ylabel('Validation Loss')\n",
        "plt.legend()\n",
        "plt.show()"
      ],
      "execution_count": 0,
      "outputs": [
        {
          "output_type": "display_data",
          "data": {
            "image/png": "[encoded data removed]",
            "text/plain": [
              "<Figure size 576x396 with 1 Axes>"
            ]
          },
          "metadata": {
            "tags": []
          }
        }
      ]
    },
    {
      "metadata": {
        "id": "Vshzl9Daw1zg",
        "colab_type": "text"
      },
      "cell_type": "markdown",
      "source": [
        "The smaller network starts overfitting later than the original reference network (at 6 v/s 4). \n",
        "\n",
        "\n",
        "### Regularization\n",
        "\n",
        "Let's try Weight regularization for our original network - put constraints on the complexity of a network by forcing its weights to take only small values. \n",
        "\n",
        "We use L2 regularizer with 0.001, so every coefficient in the weight matrix of the layer will add (0.001 *\n",
        "weight_coefficient_value) to the total loss of the network "
      ]
    },
    {
      "metadata": {
        "id": "XSdJqSGW3Q9S",
        "colab_type": "code",
        "outputId": "e6868bf1-e677-45b3-c93b-621ee193bdaf",
        "colab": {
          "base_uri": "https://localhost:8080/",
          "height": 734
        }
      },
      "cell_type": "code",
      "source": [
        "from keras import regularizers\n",
        "\n",
        "model = models.Sequential()\n",
        "model.add(layers.Dense(16,activation='relu',kernel_regularizer=regularizers.l2(0.001),\n",
        "                      input_shape=(10000,)))\n",
        "model.add(layers.Dense(16,activation='relu',kernel_regularizer=regularizers.l2(0.001)))\n",
        "model.add(layers.Dense(1,activation='sigmoid'))\n",
        "\n",
        "model.compile(optimizer='rmsprop',loss='binary_crossentropy', metrics=['accuracy'])\n",
        "\n",
        "history_reg = model.fit(partial_x_train,partial_y_train,epochs=20,batch_size=512,validation_data=(x_val,y_val))"
      ],
      "execution_count": 0,
      "outputs": [
        {
          "output_type": "stream",
          "text": [
            "Train on 15000 samples, validate on 10000 samples\n",
            "Epoch 1/20\n",
            "15000/15000 [==============================] - 3s 199us/step - loss: 0.5890 - acc: 0.7775 - val_loss: 0.4660 - val_acc: 0.8640\n",
            "Epoch 2/20\n",
            "15000/15000 [==============================] - 2s 133us/step - loss: 0.3975 - acc: 0.8925 - val_loss: 0.3793 - val_acc: 0.8852\n",
            "Epoch 3/20\n",
            "15000/15000 [==============================] - 2s 129us/step - loss: 0.3146 - acc: 0.9178 - val_loss: 0.3437 - val_acc: 0.8885\n",
            "Epoch 4/20\n",
            "15000/15000 [==============================] - 2s 129us/step - loss: 0.2742 - acc: 0.9277 - val_loss: 0.3424 - val_acc: 0.8827\n",
            "Epoch 5/20\n",
            "15000/15000 [==============================] - 2s 131us/step - loss: 0.2500 - acc: 0.9355 - val_loss: 0.3349 - val_acc: 0.8866\n",
            "Epoch 6/20\n",
            "15000/15000 [==============================] - 2s 129us/step - loss: 0.2294 - acc: 0.9451 - val_loss: 0.3326 - val_acc: 0.8860\n",
            "Epoch 7/20\n",
            "15000/15000 [==============================] - 2s 128us/step - loss: 0.2178 - acc: 0.9495 - val_loss: 0.3656 - val_acc: 0.8781\n",
            "Epoch 8/20\n",
            "15000/15000 [==============================] - 2s 130us/step - loss: 0.2065 - acc: 0.9537 - val_loss: 0.3416 - val_acc: 0.8844\n",
            "Epoch 9/20\n",
            "15000/15000 [==============================] - 2s 129us/step - loss: 0.2009 - acc: 0.9555 - val_loss: 0.3486 - val_acc: 0.8856\n",
            "Epoch 10/20\n",
            "15000/15000 [==============================] - 2s 129us/step - loss: 0.1918 - acc: 0.9579 - val_loss: 0.3563 - val_acc: 0.8799\n",
            "Epoch 11/20\n",
            "15000/15000 [==============================] - 2s 131us/step - loss: 0.1856 - acc: 0.9612 - val_loss: 0.3621 - val_acc: 0.8804\n",
            "Epoch 12/20\n",
            "15000/15000 [==============================] - 2s 128us/step - loss: 0.1777 - acc: 0.9649 - val_loss: 0.3688 - val_acc: 0.8820\n",
            "Epoch 13/20\n",
            "15000/15000 [==============================] - 2s 130us/step - loss: 0.1752 - acc: 0.9641 - val_loss: 0.3769 - val_acc: 0.8793\n",
            "Epoch 14/20\n",
            "15000/15000 [==============================] - 2s 129us/step - loss: 0.1739 - acc: 0.9631 - val_loss: 0.3828 - val_acc: 0.8772\n",
            "Epoch 15/20\n",
            "15000/15000 [==============================] - 2s 129us/step - loss: 0.1652 - acc: 0.9694 - val_loss: 0.4141 - val_acc: 0.8664\n",
            "Epoch 16/20\n",
            "15000/15000 [==============================] - 2s 130us/step - loss: 0.1603 - acc: 0.9701 - val_loss: 0.4030 - val_acc: 0.8768\n",
            "Epoch 17/20\n",
            "15000/15000 [==============================] - 2s 130us/step - loss: 0.1563 - acc: 0.9716 - val_loss: 0.4050 - val_acc: 0.8774\n",
            "Epoch 18/20\n",
            "15000/15000 [==============================] - 2s 130us/step - loss: 0.1565 - acc: 0.9721 - val_loss: 0.4217 - val_acc: 0.8744\n",
            "Epoch 19/20\n",
            "15000/15000 [==============================] - 2s 131us/step - loss: 0.1452 - acc: 0.9775 - val_loss: 0.4345 - val_acc: 0.8721\n",
            "Epoch 20/20\n",
            "15000/15000 [==============================] - 2s 131us/step - loss: 0.1488 - acc: 0.9748 - val_loss: 0.4203 - val_acc: 0.8748\n"
          ],
          "name": "stdout"
        }
      ]
    },
    {
      "metadata": {
        "id": "Sn6ZGx4W4aXy",
        "colab_type": "code",
        "outputId": "09723c04-35e8-4b70-cd3a-6003c75acc59",
        "colab": {
          "base_uri": "https://localhost:8080/",
          "height": 361
        }
      },
      "cell_type": "code",
      "source": [
        "val_loss_reg = history_reg.history['val_loss']\n",
        "\n",
        "epochs = range(1,len(val_loss_reg)+1)\n",
        "\n",
        "plt.plot(epochs,val_loss_values,'r^',label='Original model')\n",
        "plt.plot(epochs,val_loss_reg,'bo',label='L2 Regularized model ')\n",
        "plt.xlabel('Epochs')\n",
        "plt.ylabel('Validation Loss')\n",
        "plt.legend()\n",
        "plt.show()"
      ],
      "execution_count": 0,
      "outputs": [
        {
          "output_type": "display_data",
          "data": {
            "image/png": "[encoded data removed]",
            "text/plain": [
              "<Figure size 576x396 with 1 Axes>"
            ]
          },
          "metadata": {
            "tags": []
          }
        }
      ]
    },
    {
      "metadata": {
        "id": "pxuV46Hf5mmK",
        "colab_type": "text"
      },
      "cell_type": "markdown",
      "source": [
        "Let's try Dropout regularization"
      ]
    },
    {
      "metadata": {
        "id": "Ew0KW_NM5mXw",
        "colab_type": "code",
        "outputId": "c55f2ca8-0d7a-45b5-bdf4-c8926ea66da3",
        "colab": {
          "base_uri": "https://localhost:8080/",
          "height": 785
        }
      },
      "cell_type": "code",
      "source": [
        "model = models.Sequential()\n",
        "model.add(layers.Dense(16,activation='relu',input_shape=(10000,)))\n",
        "model.add(layers.Dropout(0.5))\n",
        "model.add(layers.Dense(16,activation='relu'))\n",
        "model.add(layers.Dropout(0.5))\n",
        "model.add(layers.Dense(1,activation='sigmoid'))\n",
        "\n",
        "model.compile(optimizer='rmsprop',loss='binary_crossentropy',metrics=['accuracy'])\n",
        "\n",
        "history_dropout = model.fit(partial_x_train,partial_y_train,epochs=20,batch_size=512,validation_data=(x_val,y_val))"
      ],
      "execution_count": 0,
      "outputs": [
        {
          "output_type": "stream",
          "text": [
            "WARNING:tensorflow:From /usr/local/lib/python3.6/dist-packages/keras/backend/tensorflow_backend.py:3445: calling dropout (from tensorflow.python.ops.nn_ops) with keep_prob is deprecated and will be removed in a future version.\n",
            "Instructions for updating:\n",
            "Please use `rate` instead of `keep_prob`. Rate should be set to `rate = 1 - keep_prob`.\n",
            "Train on 15000 samples, validate on 10000 samples\n",
            "Epoch 1/20\n",
            "15000/15000 [==============================] - 5s 345us/step - loss: 0.6636 - acc: 0.5836 - val_loss: 0.5788 - val_acc: 0.7742\n",
            "Epoch 2/20\n",
            "15000/15000 [==============================] - 2s 157us/step - loss: 0.5621 - acc: 0.7202 - val_loss: 0.4536 - val_acc: 0.8516\n",
            "Epoch 3/20\n",
            "15000/15000 [==============================] - 2s 158us/step - loss: 0.4664 - acc: 0.7998 - val_loss: 0.3668 - val_acc: 0.8757\n",
            "Epoch 4/20\n",
            "15000/15000 [==============================] - 2s 157us/step - loss: 0.3893 - acc: 0.8440 - val_loss: 0.3229 - val_acc: 0.8870\n",
            "Epoch 5/20\n",
            "15000/15000 [==============================] - 2s 157us/step - loss: 0.3362 - acc: 0.8742 - val_loss: 0.2872 - val_acc: 0.8899\n",
            "Epoch 6/20\n",
            "15000/15000 [==============================] - 2s 157us/step - loss: 0.2970 - acc: 0.8919 - val_loss: 0.2762 - val_acc: 0.8917\n",
            "Epoch 7/20\n",
            "15000/15000 [==============================] - 2s 157us/step - loss: 0.2601 - acc: 0.9111 - val_loss: 0.2729 - val_acc: 0.8927\n",
            "Epoch 8/20\n",
            "15000/15000 [==============================] - 2s 155us/step - loss: 0.2278 - acc: 0.9228 - val_loss: 0.2794 - val_acc: 0.8903\n",
            "Epoch 9/20\n",
            "15000/15000 [==============================] - 2s 157us/step - loss: 0.2044 - acc: 0.9317 - val_loss: 0.2980 - val_acc: 0.8891\n",
            "Epoch 10/20\n",
            "15000/15000 [==============================] - 2s 156us/step - loss: 0.1817 - acc: 0.9401 - val_loss: 0.3367 - val_acc: 0.8746\n",
            "Epoch 11/20\n",
            "15000/15000 [==============================] - 2s 156us/step - loss: 0.1596 - acc: 0.9473 - val_loss: 0.3116 - val_acc: 0.8893\n",
            "Epoch 12/20\n",
            "15000/15000 [==============================] - 2s 156us/step - loss: 0.1480 - acc: 0.9524 - val_loss: 0.3508 - val_acc: 0.8905\n",
            "Epoch 13/20\n",
            "15000/15000 [==============================] - 3s 169us/step - loss: 0.1330 - acc: 0.9569 - val_loss: 0.3563 - val_acc: 0.8887\n",
            "Epoch 14/20\n",
            "15000/15000 [==============================] - 2s 156us/step - loss: 0.1231 - acc: 0.9591 - val_loss: 0.3787 - val_acc: 0.8898\n",
            "Epoch 15/20\n",
            "15000/15000 [==============================] - 2s 156us/step - loss: 0.1145 - acc: 0.9637 - val_loss: 0.4167 - val_acc: 0.8880\n",
            "Epoch 16/20\n",
            "15000/15000 [==============================] - 2s 156us/step - loss: 0.1043 - acc: 0.9665 - val_loss: 0.4187 - val_acc: 0.8881\n",
            "Epoch 17/20\n",
            "15000/15000 [==============================] - 2s 156us/step - loss: 0.0951 - acc: 0.9675 - val_loss: 0.4396 - val_acc: 0.8879\n",
            "Epoch 18/20\n",
            "15000/15000 [==============================] - 2s 156us/step - loss: 0.0889 - acc: 0.9704 - val_loss: 0.4577 - val_acc: 0.8860\n",
            "Epoch 19/20\n",
            "15000/15000 [==============================] - 2s 156us/step - loss: 0.0860 - acc: 0.9717 - val_loss: 0.4936 - val_acc: 0.8842\n",
            "Epoch 20/20\n",
            "15000/15000 [==============================] - 2s 155us/step - loss: 0.0851 - acc: 0.9723 - val_loss: 0.5273 - val_acc: 0.8876\n"
          ],
          "name": "stdout"
        }
      ]
    },
    {
      "metadata": {
        "id": "Lr40Yeu2MU_w",
        "colab_type": "code",
        "outputId": "31d737be-8e6e-4464-ed7e-db6b8cce289c",
        "colab": {
          "base_uri": "https://localhost:8080/",
          "height": 361
        }
      },
      "cell_type": "code",
      "source": [
        "val_loss_dropout = history_dropout.history['val_loss']\n",
        "\n",
        "epochs = range(1,len(val_loss_reg)+1)\n",
        "\n",
        "plt.plot(epochs,val_loss_values,'r^',label='Original model')\n",
        "plt.plot(epochs,val_loss_dropout,'bo',label='Dropout Regularized model')\n",
        "plt.plot(epochs,val_loss_reg,'g*',label='L2 Regularized model ')\n",
        "plt.xlabel('Epochs')\n",
        "plt.ylabel('Validation Loss')\n",
        "plt.legend()\n",
        "plt.show()"
      ],
      "execution_count": 0,
      "outputs": [
        {
          "output_type": "display_data",
          "data": {
            "image/png": "[encoded data removed]",
            "text/plain": [
              "<Figure size 576x396 with 1 Axes>"
            ]
          },
          "metadata": {
            "tags": []
          }
        }
      ]
    },
    {
      "metadata": {
        "id": "xsmwJFcjbyqa",
        "colab_type": "text"
      },
      "cell_type": "markdown",
      "source": [
        "Further Experiments\n",
        "\n",
        "\n",
        "*   Try using one or three hidden layers, and see how doing so affects validation and test accuracy.\n",
        "* Try using the mse loss function instead of binary_crossentropy.\n",
        "* Try using the tanh activation (an activation that was popular in the early days of neural networks) instead of relu."
      ]
    }
  ]
}