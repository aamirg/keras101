{
  "nbformat": 4,
  "nbformat_minor": 0,
  "metadata": {
    "colab": {
      "name": "Multiclass classification.ipynb",
      "version": "0.3.2",
      "provenance": [],
      "collapsed_sections": []
    },
    "kernelspec": {
      "name": "python3",
      "display_name": "Python 3"
    },
    "accelerator": "GPU"
  },
  "cells": [
    {
      "metadata": {
        "id": "tFK3cq_KdpP1",
        "colab_type": "text"
      },
      "cell_type": "markdown",
      "source": [
        "### Multiclass classification using Keras\n",
        "\n",
        "Build a network to classify Reuters newswires into 46 mutually exclusive topics. The problem is single-label multiclass classification.\n",
        "\n",
        "Dataset - Reuters containing 46 different topics.\n",
        "\n",
        "Dataset has already been pre-processed using bag of words technique"
      ]
    },
    {
      "metadata": {
        "id": "Ghf91T9Bdwb9",
        "colab_type": "code",
        "outputId": "9640d124-2f3c-4c6b-d473-a8e2a49b24f1",
        "colab": {
          "base_uri": "https://localhost:8080/",
          "height": 34
        }
      },
      "cell_type": "code",
      "source": [
        "from keras.datasets import reuters\n",
        "\n",
        "(train_data,train_labels),(test_data,test_labels) = reuters.load_data(num_words=10000)\n",
        "print(len(train_data),len(test_data))"
      ],
      "execution_count": 0,
      "outputs": [
        {
          "output_type": "stream",
          "text": [
            "8982 2246\n"
          ],
          "name": "stdout"
        }
      ]
    },
    {
      "metadata": {
        "id": "DboB4ceLewRZ",
        "colab_type": "text"
      },
      "cell_type": "markdown",
      "source": [
        "Vectorize the training data using one-hot encoding"
      ]
    },
    {
      "metadata": {
        "id": "hR7HBuGne2Pz",
        "colab_type": "code",
        "outputId": "21f7e583-be48-4757-c952-8b35168dcc45",
        "colab": {
          "base_uri": "https://localhost:8080/",
          "height": 134
        }
      },
      "cell_type": "code",
      "source": [
        "import numpy as np\n",
        "\n",
        "def vectorize_sequences(sequences,dimension=10000):\n",
        "  results = np.zeros((len(sequences),dimension))\n",
        "  for i,sequence in enumerate(sequences):\n",
        "    results[i,sequence] = 1 \n",
        "  return results\n",
        "\n",
        "x_train = vectorize_sequences(train_data)\n",
        "x_test = vectorize_sequences(test_data)\n",
        "\n",
        "print(x_train)"
      ],
      "execution_count": 0,
      "outputs": [
        {
          "output_type": "stream",
          "text": [
            "[[0. 1. 1. ... 0. 0. 0.]\n",
            " [0. 1. 1. ... 0. 0. 0.]\n",
            " [0. 1. 1. ... 0. 0. 0.]\n",
            " ...\n",
            " [0. 1. 1. ... 0. 0. 0.]\n",
            " [0. 1. 1. ... 0. 0. 0.]\n",
            " [0. 1. 1. ... 0. 0. 0.]]\n"
          ],
          "name": "stdout"
        }
      ]
    },
    {
      "metadata": {
        "id": "drY7Rxx6n92i",
        "colab_type": "text"
      },
      "cell_type": "markdown",
      "source": [
        "Vectorize categorical using one hot encoding as well. Other way would be to create an integer list with a mapping to each categorical label.\n",
        "\n",
        "If integer list is used to encode categorical labels, then the loss function 'sparse_categorical_crossentropy' should be used"
      ]
    },
    {
      "metadata": {
        "id": "aplvQiVln9pT",
        "colab_type": "code",
        "colab": {}
      },
      "cell_type": "code",
      "source": [
        "from keras.utils.np_utils import to_categorical\n",
        "\n",
        "one_hot_train_labels = to_categorical(train_labels)\n",
        "one_hot_test_labels = to_categorical(test_labels)"
      ],
      "execution_count": 0,
      "outputs": []
    },
    {
      "metadata": {
        "id": "d0N86wyprvfP",
        "colab_type": "text"
      },
      "cell_type": "markdown",
      "source": [
        "Create a validation set"
      ]
    },
    {
      "metadata": {
        "id": "6fN44j8crxRC",
        "colab_type": "code",
        "colab": {}
      },
      "cell_type": "code",
      "source": [
        "x_val = x_train[:1000]\n",
        "partial_x_train = x_train[1000:]\n",
        "\n",
        "y_val = one_hot_train_labels[:1000]\n",
        "partial_y_train = one_hot_train_labels[1000:]"
      ],
      "execution_count": 0,
      "outputs": []
    },
    {
      "metadata": {
        "id": "BLDQYgjcqpEa",
        "colab_type": "text"
      },
      "cell_type": "markdown",
      "source": [
        "Since we have 46 output classes we will need layers larger than 16 units in size.  Avoid hidden layers having less than 46 units as this will create an information bottleneck and affect performance.\n",
        "\n",
        "End the network with a Dense layer of size 46. This means for each input sample, the network will output a 46-dim vector. Each entry in this vector will encode probability for a different output class.\n",
        "\n",
        "The values of the 46 dim vector will sum to 1"
      ]
    },
    {
      "metadata": {
        "id": "Y5i3Ge-fqvBG",
        "colab_type": "code",
        "outputId": "df5ab7b3-eaeb-491a-8803-3fbcdbf803bf",
        "colab": {
          "base_uri": "https://localhost:8080/",
          "height": 776
        }
      },
      "cell_type": "code",
      "source": [
        "from keras import models\n",
        "from keras import layers\n",
        "\n",
        "model = models.Sequential()\n",
        "model.add(layers.Dense(64, activation='relu', input_shape=(10000,)))\n",
        "model.add(layers.Dense(64, activation='relu'))\n",
        "model.add(layers.Dense(46,activation='softmax'))\n",
        "\n",
        "model.compile(optimizer='rmsprop',\n",
        "             loss='categorical_crossentropy',\n",
        "             metrics=['accuracy'])\n",
        "\n",
        "history = model.fit(partial_x_train,\n",
        "                   partial_y_train,\n",
        "                   epochs=20,\n",
        "                   batch_size=512,\n",
        "                   validation_data=(x_val,y_val))"
      ],
      "execution_count": 0,
      "outputs": [
        {
          "output_type": "stream",
          "text": [
            "WARNING:tensorflow:From /usr/local/lib/python3.6/dist-packages/tensorflow/python/ops/math_ops.py:3066: to_int32 (from tensorflow.python.ops.math_ops) is deprecated and will be removed in a future version.\n",
            "Instructions for updating:\n",
            "Use tf.cast instead.\n",
            "Train on 7982 samples, validate on 1000 samples\n",
            "Epoch 1/20\n",
            "7982/7982 [==============================] - 4s 453us/step - loss: 2.6102 - acc: 0.5287 - val_loss: 1.6778 - val_acc: 0.6340\n",
            "Epoch 2/20\n",
            "7982/7982 [==============================] - 1s 76us/step - loss: 1.3994 - acc: 0.7035 - val_loss: 1.2831 - val_acc: 0.7150\n",
            "Epoch 3/20\n",
            "7982/7982 [==============================] - 1s 77us/step - loss: 1.0562 - acc: 0.7676 - val_loss: 1.1193 - val_acc: 0.7550\n",
            "Epoch 4/20\n",
            "7982/7982 [==============================] - 1s 81us/step - loss: 0.8303 - acc: 0.8211 - val_loss: 1.0192 - val_acc: 0.7890\n",
            "Epoch 5/20\n",
            "7982/7982 [==============================] - 1s 82us/step - loss: 0.6645 - acc: 0.8602 - val_loss: 0.9665 - val_acc: 0.8000\n",
            "Epoch 6/20\n",
            "7982/7982 [==============================] - 1s 81us/step - loss: 0.5311 - acc: 0.8916 - val_loss: 0.9177 - val_acc: 0.8150\n",
            "Epoch 7/20\n",
            "7982/7982 [==============================] - 1s 80us/step - loss: 0.4298 - acc: 0.9107 - val_loss: 0.9171 - val_acc: 0.8100\n",
            "Epoch 8/20\n",
            "7982/7982 [==============================] - 1s 82us/step - loss: 0.3475 - acc: 0.9255 - val_loss: 0.9157 - val_acc: 0.8080\n",
            "Epoch 9/20\n",
            "7982/7982 [==============================] - 1s 83us/step - loss: 0.2905 - acc: 0.9366 - val_loss: 0.9082 - val_acc: 0.8160\n",
            "Epoch 10/20\n",
            "7982/7982 [==============================] - 1s 82us/step - loss: 0.2432 - acc: 0.9446 - val_loss: 0.8956 - val_acc: 0.8240\n",
            "Epoch 11/20\n",
            "7982/7982 [==============================] - 1s 83us/step - loss: 0.2108 - acc: 0.9498 - val_loss: 0.9022 - val_acc: 0.8070\n",
            "Epoch 12/20\n",
            "7982/7982 [==============================] - 1s 83us/step - loss: 0.1838 - acc: 0.9523 - val_loss: 0.9147 - val_acc: 0.8090\n",
            "Epoch 13/20\n",
            "7982/7982 [==============================] - 1s 83us/step - loss: 0.1690 - acc: 0.9518 - val_loss: 0.9535 - val_acc: 0.8070\n",
            "Epoch 14/20\n",
            "7982/7982 [==============================] - 1s 82us/step - loss: 0.1540 - acc: 0.9540 - val_loss: 0.9422 - val_acc: 0.8130\n",
            "Epoch 15/20\n",
            "7982/7982 [==============================] - 1s 82us/step - loss: 0.1441 - acc: 0.9535 - val_loss: 0.9809 - val_acc: 0.8100\n",
            "Epoch 16/20\n",
            "7982/7982 [==============================] - 1s 81us/step - loss: 0.1313 - acc: 0.9574 - val_loss: 0.9611 - val_acc: 0.8140\n",
            "Epoch 17/20\n",
            "7982/7982 [==============================] - 1s 82us/step - loss: 0.1215 - acc: 0.9579 - val_loss: 1.0226 - val_acc: 0.8110\n",
            "Epoch 18/20\n",
            "7982/7982 [==============================] - 1s 82us/step - loss: 0.1228 - acc: 0.9564 - val_loss: 1.0147 - val_acc: 0.8020\n",
            "Epoch 19/20\n",
            "7982/7982 [==============================] - 1s 83us/step - loss: 0.1155 - acc: 0.9569 - val_loss: 1.0601 - val_acc: 0.8060\n",
            "Epoch 20/20\n",
            "7982/7982 [==============================] - 1s 82us/step - loss: 0.1130 - acc: 0.9582 - val_loss: 1.0484 - val_acc: 0.8050\n"
          ],
          "name": "stdout"
        }
      ]
    },
    {
      "metadata": {
        "id": "Kj71qJLPtbvj",
        "colab_type": "text"
      },
      "cell_type": "markdown",
      "source": [
        "Plot the training and validation loss"
      ]
    },
    {
      "metadata": {
        "id": "PklttsSLtg85",
        "colab_type": "code",
        "outputId": "87b3fa39-5686-4c23-e569-7b0670528c9c",
        "colab": {
          "base_uri": "https://localhost:8080/",
          "height": 361
        }
      },
      "cell_type": "code",
      "source": [
        "import matplotlib.pyplot as plt\n",
        "\n",
        "loss = history.history['loss']\n",
        "val_loss = history.history['val_loss']\n",
        "\n",
        "epochs = range(1,len(loss)+1)\n",
        "\n",
        "plt.plot(epochs, loss, 'bo',label='Training loss')\n",
        "plt.plot(epochs, val_loss, 'b', label='Validation loss')\n",
        "plt.xlabel('Epochs')\n",
        "plt.ylabel('Loss')\n",
        "plt.legend()\n",
        "plt.show()"
      ],
      "execution_count": 0,
      "outputs": [
        {
          "output_type": "display_data",
          "data": {
            "image/png": "[encoded data removed]",
            "text/plain": [
              "<Figure size 576x396 with 1 Axes>"
            ]
          },
          "metadata": {
            "tags": []
          }
        }
      ]
    },
    {
      "metadata": {
        "id": "C94TKzCxuOwJ",
        "colab_type": "text"
      },
      "cell_type": "markdown",
      "source": [
        "Plot the training and validation accuracy\n"
      ]
    },
    {
      "metadata": {
        "id": "Xxb9VU6UuSLh",
        "colab_type": "code",
        "outputId": "144efde9-048a-4d75-885d-f2c342aa1481",
        "colab": {
          "base_uri": "https://localhost:8080/",
          "height": 361
        }
      },
      "cell_type": "code",
      "source": [
        "acc = history.history['acc']\n",
        "val_acc = history.history['val_acc']\n",
        "\n",
        "plt.plot(epochs,acc,'bo',label = 'Training acc')\n",
        "plt.plot(epochs,val_acc,'b',label ='Validation acc')\n",
        "plt.xlabel('Epochs')\n",
        "plt.ylabel('Accuracy')\n",
        "plt.legend()\n",
        "plt.show()"
      ],
      "execution_count": 0,
      "outputs": [
        {
          "output_type": "display_data",
          "data": {
            "image/png": "[encoded data removed]",
            "text/plain": [
              "<Figure size 576x396 with 1 Axes>"
            ]
          },
          "metadata": {
            "tags": []
          }
        }
      ]
    },
    {
      "metadata": {
        "id": "-b2zkoTMu2ZJ",
        "colab_type": "text"
      },
      "cell_type": "markdown",
      "source": [
        "The network begins to overfit after nine epochs. Let’s train a new network from scratch for nine epochs and then evaluate it on the test set"
      ]
    },
    {
      "metadata": {
        "id": "9BXiF5miu6A8",
        "colab_type": "code",
        "outputId": "ab585c38-6ad3-4985-fe47-9dbd0a01422e",
        "colab": {
          "base_uri": "https://localhost:8080/",
          "height": 390
        }
      },
      "cell_type": "code",
      "source": [
        "model = models.Sequential()\n",
        "model.add(layers.Dense(64,activation='relu',input_shape=(10000,)))\n",
        "model.add(layers.Dense(64,activation='relu'))\n",
        "model.add(layers.Dense(46,activation='softmax'))\n",
        "\n",
        "model.compile(optimizer = 'rmsprop',\n",
        "             loss = 'categorical_crossentropy',\n",
        "             metrics=['accuracy'])\n",
        "\n",
        "model.fit(partial_x_train,\n",
        "         partial_y_train,\n",
        "         epochs=9,\n",
        "         batch_size=512,\n",
        "         validation_data=(x_val,y_val))\n",
        "\n",
        "results = model.evaluate(x_test,one_hot_test_labels)\n",
        "print(results)"
      ],
      "execution_count": 0,
      "outputs": [
        {
          "output_type": "stream",
          "text": [
            "Train on 7982 samples, validate on 1000 samples\n",
            "Epoch 1/9\n",
            "7982/7982 [==============================] - 1s 109us/step - loss: 2.6135 - acc: 0.4644 - val_loss: 1.7289 - val_acc: 0.6350\n",
            "Epoch 2/9\n",
            "7982/7982 [==============================] - 1s 74us/step - loss: 1.4074 - acc: 0.7082 - val_loss: 1.2747 - val_acc: 0.7310\n",
            "Epoch 3/9\n",
            "7982/7982 [==============================] - 1s 76us/step - loss: 1.0425 - acc: 0.7786 - val_loss: 1.1035 - val_acc: 0.7630\n",
            "Epoch 4/9\n",
            "7982/7982 [==============================] - 1s 83us/step - loss: 0.8180 - acc: 0.8322 - val_loss: 1.0270 - val_acc: 0.7820\n",
            "Epoch 5/9\n",
            "7982/7982 [==============================] - 1s 81us/step - loss: 0.6507 - acc: 0.8629 - val_loss: 0.9513 - val_acc: 0.8070\n",
            "Epoch 6/9\n",
            "7982/7982 [==============================] - 1s 82us/step - loss: 0.5297 - acc: 0.8904 - val_loss: 0.9206 - val_acc: 0.8120\n",
            "Epoch 7/9\n",
            "7982/7982 [==============================] - 1s 82us/step - loss: 0.4213 - acc: 0.9113 - val_loss: 0.9006 - val_acc: 0.8140\n",
            "Epoch 8/9\n",
            "7982/7982 [==============================] - 1s 82us/step - loss: 0.3486 - acc: 0.9257 - val_loss: 0.8917 - val_acc: 0.8150\n",
            "Epoch 9/9\n",
            "7982/7982 [==============================] - 1s 83us/step - loss: 0.2861 - acc: 0.9352 - val_loss: 0.8843 - val_acc: 0.8210\n",
            "2246/2246 [==============================] - 0s 97us/step\n",
            "[0.9839375053042295, 0.7858414960459524]\n"
          ],
          "name": "stdout"
        }
      ]
    },
    {
      "metadata": {
        "id": "WXTwIwFRwV-7",
        "colab_type": "text"
      },
      "cell_type": "markdown",
      "source": [
        "This approach reaches an accuracy of ~80%. Let's generate predictions on test data"
      ]
    },
    {
      "metadata": {
        "id": "EBWtfw10wjP-",
        "colab_type": "code",
        "outputId": "8a84e18b-40ee-47a8-fa4b-6effe9241f07",
        "colab": {
          "base_uri": "https://localhost:8080/",
          "height": 34
        }
      },
      "cell_type": "code",
      "source": [
        "predictions = model.predict(x_test)\n",
        "predictions[0].shape"
      ],
      "execution_count": 0,
      "outputs": [
        {
          "output_type": "execute_result",
          "data": {
            "text/plain": [
              "(46,)"
            ]
          },
          "metadata": {
            "tags": []
          },
          "execution_count": 26
        }
      ]
    }
  ]
}